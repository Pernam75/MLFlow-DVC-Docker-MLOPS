{
 "cells": [
  {
   "cell_type": "code",
   "execution_count": 2,
   "metadata": {},
   "outputs": [
    {
     "data": {
      "text/plain": [
       "'1s2a0KK6nCC3sDZLtC3r7Y8RoW3jqmSsE'"
      ]
     },
     "execution_count": 2,
     "metadata": {},
     "output_type": "execute_result"
    }
   ],
   "source": [
    "# download data from gdrive\n",
    "import gdown\n",
    "\n",
    "url = 'https://drive.google.com/file/d/1s2a0KK6nCC3sDZLtC3r7Y8RoW3jqmSsE/view?usp=drive_link'\n",
    "\n",
    "file_id = url.split(\"/\")[-2]\n",
    "file_id"
   ]
  },
  {
   "cell_type": "code",
   "execution_count": 4,
   "metadata": {},
   "outputs": [
    {
     "name": "stderr",
     "output_type": "stream",
     "text": [
      "Downloading...\n",
      "From (original): https://drive.google.com/uc?/export=download&id=1s2a0KK6nCC3sDZLtC3r7Y8RoW3jqmSsE\n",
      "From (redirected): https://drive.google.com/uc?%2Fexport=download&id=1s2a0KK6nCC3sDZLtC3r7Y8RoW3jqmSsE&confirm=t&uuid=cb342dbf-19ec-436f-b7b3-86c130fa20c9\n",
      "To: c:\\Users\\jules\\GithubRepo\\MLFlow-DVC-Docker-MLOPS\\research\\cifake.zip\n",
      "100%|██████████| 110M/110M [00:51<00:00, 2.14MB/s]\n"
     ]
    },
    {
     "data": {
      "text/plain": [
       "'cifake.zip'"
      ]
     },
     "execution_count": 4,
     "metadata": {},
     "output_type": "execute_result"
    }
   ],
   "source": [
    "prefix = 'https://drive.google.com/uc?/export=download&id='\n",
    "gdown.download(prefix+file_id, \"cifake.zip\", quiet=False)"
   ]
  }
 ],
 "metadata": {
  "kernelspec": {
   "display_name": "mlops_project",
   "language": "python",
   "name": "python3"
  },
  "language_info": {
   "codemirror_mode": {
    "name": "ipython",
    "version": 3
   },
   "file_extension": ".py",
   "mimetype": "text/x-python",
   "name": "python",
   "nbconvert_exporter": "python",
   "pygments_lexer": "ipython3",
   "version": "3.8.18"
  }
 },
 "nbformat": 4,
 "nbformat_minor": 2
}
